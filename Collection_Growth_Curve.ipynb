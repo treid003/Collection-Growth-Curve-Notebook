{
  "nbformat": 4,
  "nbformat_minor": 0,
  "metadata": {
    "colab": {
      "name": "Collection_Growth_Curve.ipynb",
      "provenance": [],
      "collapsed_sections": [],
      "authorship_tag": "ABX9TyNq/PAHtDlhjxz0SMHoDvI2",
      "include_colab_link": true
    },
    "kernelspec": {
      "name": "python3",
      "display_name": "Python 3"
    },
    "widgets": {
      "application/vnd.jupyter.widget-state+json": {
        "bcffed946ee34bdd825d3f20fb81d5f1": {
          "model_module": "@jupyter-widgets/controls",
          "model_name": "HBoxModel",
          "state": {
            "_view_name": "HBoxView",
            "_dom_classes": [],
            "_model_name": "HBoxModel",
            "_view_module": "@jupyter-widgets/controls",
            "_model_module_version": "1.5.0",
            "_view_count": null,
            "_view_module_version": "1.5.0",
            "box_style": "",
            "layout": "IPY_MODEL_ef28f163dc4c43c49510be20175b4ad7",
            "_model_module": "@jupyter-widgets/controls",
            "children": [
              "IPY_MODEL_bba756221c7948aa9e1b42245ee9c165",
              "IPY_MODEL_cbe5669592944929a915321b2bc68929"
            ]
          }
        },
        "ef28f163dc4c43c49510be20175b4ad7": {
          "model_module": "@jupyter-widgets/base",
          "model_name": "LayoutModel",
          "state": {
            "_view_name": "LayoutView",
            "grid_template_rows": null,
            "right": null,
            "justify_content": null,
            "_view_module": "@jupyter-widgets/base",
            "overflow": null,
            "_model_module_version": "1.2.0",
            "_view_count": null,
            "flex_flow": null,
            "width": null,
            "min_width": null,
            "border": null,
            "align_items": null,
            "bottom": null,
            "_model_module": "@jupyter-widgets/base",
            "top": null,
            "grid_column": null,
            "overflow_y": null,
            "overflow_x": null,
            "grid_auto_flow": null,
            "grid_area": null,
            "grid_template_columns": null,
            "flex": null,
            "_model_name": "LayoutModel",
            "justify_items": null,
            "grid_row": null,
            "max_height": null,
            "align_content": null,
            "visibility": null,
            "align_self": null,
            "height": null,
            "min_height": null,
            "padding": null,
            "grid_auto_rows": null,
            "grid_gap": null,
            "max_width": null,
            "order": null,
            "_view_module_version": "1.2.0",
            "grid_template_areas": null,
            "object_position": null,
            "object_fit": null,
            "grid_auto_columns": null,
            "margin": null,
            "display": null,
            "left": null
          }
        },
        "bba756221c7948aa9e1b42245ee9c165": {
          "model_module": "@jupyter-widgets/controls",
          "model_name": "FloatProgressModel",
          "state": {
            "_view_name": "ProgressView",
            "style": "IPY_MODEL_0e1002e556ab4b8089cd97908c528e76",
            "_dom_classes": [],
            "description": "Printing Seed Memento File: 100%",
            "_model_name": "FloatProgressModel",
            "bar_style": "info",
            "max": 817,
            "_view_module": "@jupyter-widgets/controls",
            "_model_module_version": "1.5.0",
            "value": 817,
            "_view_count": null,
            "_view_module_version": "1.5.0",
            "orientation": "horizontal",
            "min": 0,
            "description_tooltip": null,
            "_model_module": "@jupyter-widgets/controls",
            "layout": "IPY_MODEL_c1a6cf1831764fb799168dc90ab09ba3"
          }
        },
        "cbe5669592944929a915321b2bc68929": {
          "model_module": "@jupyter-widgets/controls",
          "model_name": "HTMLModel",
          "state": {
            "_view_name": "HTMLView",
            "style": "IPY_MODEL_32bb15ba69b942fcb71aff97d73e99cb",
            "_dom_classes": [],
            "description": "",
            "_model_name": "HTMLModel",
            "placeholder": "​",
            "_view_module": "@jupyter-widgets/controls",
            "_model_module_version": "1.5.0",
            "value": " 817/817 [00:19&lt;00:00, 1426.08it/s]",
            "_view_count": null,
            "_view_module_version": "1.5.0",
            "description_tooltip": null,
            "_model_module": "@jupyter-widgets/controls",
            "layout": "IPY_MODEL_f7928b71ff454dedaef03679e8c381f0"
          }
        },
        "0e1002e556ab4b8089cd97908c528e76": {
          "model_module": "@jupyter-widgets/controls",
          "model_name": "ProgressStyleModel",
          "state": {
            "_view_name": "StyleView",
            "_model_name": "ProgressStyleModel",
            "description_width": "initial",
            "_view_module": "@jupyter-widgets/base",
            "_model_module_version": "1.5.0",
            "_view_count": null,
            "_view_module_version": "1.2.0",
            "bar_color": null,
            "_model_module": "@jupyter-widgets/controls"
          }
        },
        "c1a6cf1831764fb799168dc90ab09ba3": {
          "model_module": "@jupyter-widgets/base",
          "model_name": "LayoutModel",
          "state": {
            "_view_name": "LayoutView",
            "grid_template_rows": null,
            "right": null,
            "justify_content": null,
            "_view_module": "@jupyter-widgets/base",
            "overflow": null,
            "_model_module_version": "1.2.0",
            "_view_count": null,
            "flex_flow": null,
            "width": null,
            "min_width": null,
            "border": null,
            "align_items": null,
            "bottom": null,
            "_model_module": "@jupyter-widgets/base",
            "top": null,
            "grid_column": null,
            "overflow_y": null,
            "overflow_x": null,
            "grid_auto_flow": null,
            "grid_area": null,
            "grid_template_columns": null,
            "flex": null,
            "_model_name": "LayoutModel",
            "justify_items": null,
            "grid_row": null,
            "max_height": null,
            "align_content": null,
            "visibility": null,
            "align_self": null,
            "height": null,
            "min_height": null,
            "padding": null,
            "grid_auto_rows": null,
            "grid_gap": null,
            "max_width": null,
            "order": null,
            "_view_module_version": "1.2.0",
            "grid_template_areas": null,
            "object_position": null,
            "object_fit": null,
            "grid_auto_columns": null,
            "margin": null,
            "display": null,
            "left": null
          }
        },
        "32bb15ba69b942fcb71aff97d73e99cb": {
          "model_module": "@jupyter-widgets/controls",
          "model_name": "DescriptionStyleModel",
          "state": {
            "_view_name": "StyleView",
            "_model_name": "DescriptionStyleModel",
            "description_width": "",
            "_view_module": "@jupyter-widgets/base",
            "_model_module_version": "1.5.0",
            "_view_count": null,
            "_view_module_version": "1.2.0",
            "_model_module": "@jupyter-widgets/controls"
          }
        },
        "f7928b71ff454dedaef03679e8c381f0": {
          "model_module": "@jupyter-widgets/base",
          "model_name": "LayoutModel",
          "state": {
            "_view_name": "LayoutView",
            "grid_template_rows": null,
            "right": null,
            "justify_content": null,
            "_view_module": "@jupyter-widgets/base",
            "overflow": null,
            "_model_module_version": "1.2.0",
            "_view_count": null,
            "flex_flow": null,
            "width": null,
            "min_width": null,
            "border": null,
            "align_items": null,
            "bottom": null,
            "_model_module": "@jupyter-widgets/base",
            "top": null,
            "grid_column": null,
            "overflow_y": null,
            "overflow_x": null,
            "grid_auto_flow": null,
            "grid_area": null,
            "grid_template_columns": null,
            "flex": null,
            "_model_name": "LayoutModel",
            "justify_items": null,
            "grid_row": null,
            "max_height": null,
            "align_content": null,
            "visibility": null,
            "align_self": null,
            "height": null,
            "min_height": null,
            "padding": null,
            "grid_auto_rows": null,
            "grid_gap": null,
            "max_width": null,
            "order": null,
            "_view_module_version": "1.2.0",
            "grid_template_areas": null,
            "object_position": null,
            "object_fit": null,
            "grid_auto_columns": null,
            "margin": null,
            "display": null,
            "left": null
          }
        },
        "aba2e15f2fbc4e29aa0dadc081011e41": {
          "model_module": "@jupyter-widgets/controls",
          "model_name": "HBoxModel",
          "state": {
            "_view_name": "HBoxView",
            "_dom_classes": [],
            "_model_name": "HBoxModel",
            "_view_module": "@jupyter-widgets/controls",
            "_model_module_version": "1.5.0",
            "_view_count": null,
            "_view_module_version": "1.5.0",
            "box_style": "",
            "layout": "IPY_MODEL_7e573d43f33c46b7ae5802756ed6a01d",
            "_model_module": "@jupyter-widgets/controls",
            "children": [
              "IPY_MODEL_d1040fcb2b0444a8a14362bafcf67056",
              "IPY_MODEL_4ee646bec19a4c70ab10fd3923c5c04d"
            ]
          }
        },
        "7e573d43f33c46b7ae5802756ed6a01d": {
          "model_module": "@jupyter-widgets/base",
          "model_name": "LayoutModel",
          "state": {
            "_view_name": "LayoutView",
            "grid_template_rows": null,
            "right": null,
            "justify_content": null,
            "_view_module": "@jupyter-widgets/base",
            "overflow": null,
            "_model_module_version": "1.2.0",
            "_view_count": null,
            "flex_flow": null,
            "width": null,
            "min_width": null,
            "border": null,
            "align_items": null,
            "bottom": null,
            "_model_module": "@jupyter-widgets/base",
            "top": null,
            "grid_column": null,
            "overflow_y": null,
            "overflow_x": null,
            "grid_auto_flow": null,
            "grid_area": null,
            "grid_template_columns": null,
            "flex": null,
            "_model_name": "LayoutModel",
            "justify_items": null,
            "grid_row": null,
            "max_height": null,
            "align_content": null,
            "visibility": null,
            "align_self": null,
            "height": null,
            "min_height": null,
            "padding": null,
            "grid_auto_rows": null,
            "grid_gap": null,
            "max_width": null,
            "order": null,
            "_view_module_version": "1.2.0",
            "grid_template_areas": null,
            "object_position": null,
            "object_fit": null,
            "grid_auto_columns": null,
            "margin": null,
            "display": null,
            "left": null
          }
        },
        "d1040fcb2b0444a8a14362bafcf67056": {
          "model_module": "@jupyter-widgets/controls",
          "model_name": "FloatProgressModel",
          "state": {
            "_view_name": "ProgressView",
            "style": "IPY_MODEL_bd9b466856c84b048779cc10da6c3eb5",
            "_dom_classes": [],
            "description": "Seed line: 100%",
            "_model_name": "FloatProgressModel",
            "bar_style": "success",
            "max": 35,
            "_view_module": "@jupyter-widgets/controls",
            "_model_module_version": "1.5.0",
            "value": 35,
            "_view_count": null,
            "_view_module_version": "1.5.0",
            "orientation": "horizontal",
            "min": 0,
            "description_tooltip": null,
            "_model_module": "@jupyter-widgets/controls",
            "layout": "IPY_MODEL_24b6336c9dcc49eaa519dc86aa312ee7"
          }
        },
        "4ee646bec19a4c70ab10fd3923c5c04d": {
          "model_module": "@jupyter-widgets/controls",
          "model_name": "HTMLModel",
          "state": {
            "_view_name": "HTMLView",
            "style": "IPY_MODEL_38283d6523f14fe7901fe122a4958c8d",
            "_dom_classes": [],
            "description": "",
            "_model_name": "HTMLModel",
            "placeholder": "​",
            "_view_module": "@jupyter-widgets/controls",
            "_model_module_version": "1.5.0",
            "value": " 35/35 [00:00&lt;00:00, 60.72it/s]",
            "_view_count": null,
            "_view_module_version": "1.5.0",
            "description_tooltip": null,
            "_model_module": "@jupyter-widgets/controls",
            "layout": "IPY_MODEL_37ca5660d08444dfa4c531d04dfb2c74"
          }
        },
        "bd9b466856c84b048779cc10da6c3eb5": {
          "model_module": "@jupyter-widgets/controls",
          "model_name": "ProgressStyleModel",
          "state": {
            "_view_name": "StyleView",
            "_model_name": "ProgressStyleModel",
            "description_width": "initial",
            "_view_module": "@jupyter-widgets/base",
            "_model_module_version": "1.5.0",
            "_view_count": null,
            "_view_module_version": "1.2.0",
            "bar_color": null,
            "_model_module": "@jupyter-widgets/controls"
          }
        },
        "24b6336c9dcc49eaa519dc86aa312ee7": {
          "model_module": "@jupyter-widgets/base",
          "model_name": "LayoutModel",
          "state": {
            "_view_name": "LayoutView",
            "grid_template_rows": null,
            "right": null,
            "justify_content": null,
            "_view_module": "@jupyter-widgets/base",
            "overflow": null,
            "_model_module_version": "1.2.0",
            "_view_count": null,
            "flex_flow": null,
            "width": null,
            "min_width": null,
            "border": null,
            "align_items": null,
            "bottom": null,
            "_model_module": "@jupyter-widgets/base",
            "top": null,
            "grid_column": null,
            "overflow_y": null,
            "overflow_x": null,
            "grid_auto_flow": null,
            "grid_area": null,
            "grid_template_columns": null,
            "flex": null,
            "_model_name": "LayoutModel",
            "justify_items": null,
            "grid_row": null,
            "max_height": null,
            "align_content": null,
            "visibility": null,
            "align_self": null,
            "height": null,
            "min_height": null,
            "padding": null,
            "grid_auto_rows": null,
            "grid_gap": null,
            "max_width": null,
            "order": null,
            "_view_module_version": "1.2.0",
            "grid_template_areas": null,
            "object_position": null,
            "object_fit": null,
            "grid_auto_columns": null,
            "margin": null,
            "display": null,
            "left": null
          }
        },
        "38283d6523f14fe7901fe122a4958c8d": {
          "model_module": "@jupyter-widgets/controls",
          "model_name": "DescriptionStyleModel",
          "state": {
            "_view_name": "StyleView",
            "_model_name": "DescriptionStyleModel",
            "description_width": "",
            "_view_module": "@jupyter-widgets/base",
            "_model_module_version": "1.5.0",
            "_view_count": null,
            "_view_module_version": "1.2.0",
            "_model_module": "@jupyter-widgets/controls"
          }
        },
        "37ca5660d08444dfa4c531d04dfb2c74": {
          "model_module": "@jupyter-widgets/base",
          "model_name": "LayoutModel",
          "state": {
            "_view_name": "LayoutView",
            "grid_template_rows": null,
            "right": null,
            "justify_content": null,
            "_view_module": "@jupyter-widgets/base",
            "overflow": null,
            "_model_module_version": "1.2.0",
            "_view_count": null,
            "flex_flow": null,
            "width": null,
            "min_width": null,
            "border": null,
            "align_items": null,
            "bottom": null,
            "_model_module": "@jupyter-widgets/base",
            "top": null,
            "grid_column": null,
            "overflow_y": null,
            "overflow_x": null,
            "grid_auto_flow": null,
            "grid_area": null,
            "grid_template_columns": null,
            "flex": null,
            "_model_name": "LayoutModel",
            "justify_items": null,
            "grid_row": null,
            "max_height": null,
            "align_content": null,
            "visibility": null,
            "align_self": null,
            "height": null,
            "min_height": null,
            "padding": null,
            "grid_auto_rows": null,
            "grid_gap": null,
            "max_width": null,
            "order": null,
            "_view_module_version": "1.2.0",
            "grid_template_areas": null,
            "object_position": null,
            "object_fit": null,
            "grid_auto_columns": null,
            "margin": null,
            "display": null,
            "left": null
          }
        },
        "0649ade382d24ba8b93f3265cc018ab4": {
          "model_module": "@jupyter-widgets/controls",
          "model_name": "HBoxModel",
          "state": {
            "_view_name": "HBoxView",
            "_dom_classes": [],
            "_model_name": "HBoxModel",
            "_view_module": "@jupyter-widgets/controls",
            "_model_module_version": "1.5.0",
            "_view_count": null,
            "_view_module_version": "1.5.0",
            "box_style": "",
            "layout": "IPY_MODEL_f37551530c524d38a1afbd053f9c8d05",
            "_model_module": "@jupyter-widgets/controls",
            "children": [
              "IPY_MODEL_89b120c4aef7495a88b920d33ba6480b",
              "IPY_MODEL_5ed6d01a6ea2402aa0f62cd60aa552bd"
            ]
          }
        },
        "f37551530c524d38a1afbd053f9c8d05": {
          "model_module": "@jupyter-widgets/base",
          "model_name": "LayoutModel",
          "state": {
            "_view_name": "LayoutView",
            "grid_template_rows": null,
            "right": null,
            "justify_content": null,
            "_view_module": "@jupyter-widgets/base",
            "overflow": null,
            "_model_module_version": "1.2.0",
            "_view_count": null,
            "flex_flow": null,
            "width": null,
            "min_width": null,
            "border": null,
            "align_items": null,
            "bottom": null,
            "_model_module": "@jupyter-widgets/base",
            "top": null,
            "grid_column": null,
            "overflow_y": null,
            "overflow_x": null,
            "grid_auto_flow": null,
            "grid_area": null,
            "grid_template_columns": null,
            "flex": null,
            "_model_name": "LayoutModel",
            "justify_items": null,
            "grid_row": null,
            "max_height": null,
            "align_content": null,
            "visibility": null,
            "align_self": null,
            "height": null,
            "min_height": null,
            "padding": null,
            "grid_auto_rows": null,
            "grid_gap": null,
            "max_width": null,
            "order": null,
            "_view_module_version": "1.2.0",
            "grid_template_areas": null,
            "object_position": null,
            "object_fit": null,
            "grid_auto_columns": null,
            "margin": null,
            "display": null,
            "left": null
          }
        },
        "89b120c4aef7495a88b920d33ba6480b": {
          "model_module": "@jupyter-widgets/controls",
          "model_name": "FloatProgressModel",
          "state": {
            "_view_name": "ProgressView",
            "style": "IPY_MODEL_b4fc02f0bb564be6a7257a45bd2fd3eb",
            "_dom_classes": [],
            "description": "Seed memento line: 100%",
            "_model_name": "FloatProgressModel",
            "bar_style": "success",
            "max": 817,
            "_view_module": "@jupyter-widgets/controls",
            "_model_module_version": "1.5.0",
            "value": 817,
            "_view_count": null,
            "_view_module_version": "1.5.0",
            "orientation": "horizontal",
            "min": 0,
            "description_tooltip": null,
            "_model_module": "@jupyter-widgets/controls",
            "layout": "IPY_MODEL_27a9ffc81fa946c3b2ee4ce6d056ade4"
          }
        },
        "5ed6d01a6ea2402aa0f62cd60aa552bd": {
          "model_module": "@jupyter-widgets/controls",
          "model_name": "HTMLModel",
          "state": {
            "_view_name": "HTMLView",
            "style": "IPY_MODEL_ef057d211d6d4a5180f874bbda67f24e",
            "_dom_classes": [],
            "description": "",
            "_model_name": "HTMLModel",
            "placeholder": "​",
            "_view_module": "@jupyter-widgets/controls",
            "_model_module_version": "1.5.0",
            "value": " 817/817 [00:00&lt;00:00, 25896.83it/s]",
            "_view_count": null,
            "_view_module_version": "1.5.0",
            "description_tooltip": null,
            "_model_module": "@jupyter-widgets/controls",
            "layout": "IPY_MODEL_1ed83a3a53c340fca6a6b378739f28dc"
          }
        },
        "b4fc02f0bb564be6a7257a45bd2fd3eb": {
          "model_module": "@jupyter-widgets/controls",
          "model_name": "ProgressStyleModel",
          "state": {
            "_view_name": "StyleView",
            "_model_name": "ProgressStyleModel",
            "description_width": "initial",
            "_view_module": "@jupyter-widgets/base",
            "_model_module_version": "1.5.0",
            "_view_count": null,
            "_view_module_version": "1.2.0",
            "bar_color": null,
            "_model_module": "@jupyter-widgets/controls"
          }
        },
        "27a9ffc81fa946c3b2ee4ce6d056ade4": {
          "model_module": "@jupyter-widgets/base",
          "model_name": "LayoutModel",
          "state": {
            "_view_name": "LayoutView",
            "grid_template_rows": null,
            "right": null,
            "justify_content": null,
            "_view_module": "@jupyter-widgets/base",
            "overflow": null,
            "_model_module_version": "1.2.0",
            "_view_count": null,
            "flex_flow": null,
            "width": null,
            "min_width": null,
            "border": null,
            "align_items": null,
            "bottom": null,
            "_model_module": "@jupyter-widgets/base",
            "top": null,
            "grid_column": null,
            "overflow_y": null,
            "overflow_x": null,
            "grid_auto_flow": null,
            "grid_area": null,
            "grid_template_columns": null,
            "flex": null,
            "_model_name": "LayoutModel",
            "justify_items": null,
            "grid_row": null,
            "max_height": null,
            "align_content": null,
            "visibility": null,
            "align_self": null,
            "height": null,
            "min_height": null,
            "padding": null,
            "grid_auto_rows": null,
            "grid_gap": null,
            "max_width": null,
            "order": null,
            "_view_module_version": "1.2.0",
            "grid_template_areas": null,
            "object_position": null,
            "object_fit": null,
            "grid_auto_columns": null,
            "margin": null,
            "display": null,
            "left": null
          }
        },
        "ef057d211d6d4a5180f874bbda67f24e": {
          "model_module": "@jupyter-widgets/controls",
          "model_name": "DescriptionStyleModel",
          "state": {
            "_view_name": "StyleView",
            "_model_name": "DescriptionStyleModel",
            "description_width": "",
            "_view_module": "@jupyter-widgets/base",
            "_model_module_version": "1.5.0",
            "_view_count": null,
            "_view_module_version": "1.2.0",
            "_model_module": "@jupyter-widgets/controls"
          }
        },
        "1ed83a3a53c340fca6a6b378739f28dc": {
          "model_module": "@jupyter-widgets/base",
          "model_name": "LayoutModel",
          "state": {
            "_view_name": "LayoutView",
            "grid_template_rows": null,
            "right": null,
            "justify_content": null,
            "_view_module": "@jupyter-widgets/base",
            "overflow": null,
            "_model_module_version": "1.2.0",
            "_view_count": null,
            "flex_flow": null,
            "width": null,
            "min_width": null,
            "border": null,
            "align_items": null,
            "bottom": null,
            "_model_module": "@jupyter-widgets/base",
            "top": null,
            "grid_column": null,
            "overflow_y": null,
            "overflow_x": null,
            "grid_auto_flow": null,
            "grid_area": null,
            "grid_template_columns": null,
            "flex": null,
            "_model_name": "LayoutModel",
            "justify_items": null,
            "grid_row": null,
            "max_height": null,
            "align_content": null,
            "visibility": null,
            "align_self": null,
            "height": null,
            "min_height": null,
            "padding": null,
            "grid_auto_rows": null,
            "grid_gap": null,
            "max_width": null,
            "order": null,
            "_view_module_version": "1.2.0",
            "grid_template_areas": null,
            "object_position": null,
            "object_fit": null,
            "grid_auto_columns": null,
            "margin": null,
            "display": null,
            "left": null
          }
        }
      }
    }
  },
  "cells": [
    {
      "cell_type": "markdown",
      "metadata": {
        "id": "view-in-github",
        "colab_type": "text"
      },
      "source": [
        "<a href=\"https://colab.research.google.com/github/treid003/Collection-Growth-Curve-Notebook/blob/main/Collection_Growth_Curve.ipynb\" target=\"_parent\"><img src=\"https://colab.research.google.com/assets/colab-badge.svg\" alt=\"Open In Colab\"/></a>"
      ]
    },
    {
      "cell_type": "markdown",
      "metadata": {
        "id": "v4i2BBLDTLJ-"
      },
      "source": [
        "# Collection Growth Curve Notebook\n",
        "Travis Reid ([@TReid803](https://twitter.com/TReid803))\n",
        "    \n",
        "Web Science and Digital Libraries Research Group ([@WebSciDL](https://twitter.com/WebSciDL))\n",
        "    \n",
        "    \n",
        "![366_growth_curves.png](data:image/png;base64,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)\n",
        "\n",
        "A collection growth curve (Figure 1) can be used to gain a better understanding of the seed curation and crawling behavior of a web archive collection. In a collection growth curve there are two lines, which are the seed line (green) and the seed memento line (red). The seed line can represent part of the curational engagement with a collection since it can show when the archivist first crawled the seeds in a collection. The seed memento line represents the growth of the collection. The x-axis for a collection growth curve represents the percentage of the life of the collection. The y-axis for a collection growth curve represents the percentage of URIs in the collection at a given time.\n",
        "\n",
        "If a line is at the upper left corner, then most of the seeds or seed mementos have been added to the collection earlier in the collection's life. If a line is at the lower right corner, then most of the seeds or seed mementos have been added to the collection later in the collection's life. If a seed line is a diagonal line, then the archivist added new seeds frequently during the collection's life.\n",
        "\n",
        "Read section 5.1 of the paper \"[The Many Shapes of Archive-It](https://arxiv.org/abs/1806.06878)\" to learn more about collection growth curves.\n",
        "\n",
        "    \n",
        "## Using This Growth Curve Notebook\n",
        "1. Update the variables in the *first code cell* with the information needed for the collection and the text derivative file\n",
        "1. Run the *second code cell*\n",
        "1. Restart the runtime by selecting **Runtime->Restart and run all**\n",
        "1. After this is done, the notebook will begin to execute all code cells and will display the growth curve and other information at the bottom of the notebook\n",
        "\n",
        "## Requirements\n",
        "The text derivative used by the notebook needs to be similar to the [webpage text derivative](https://docs.google.com/presentation/d/18lNE-eTSK5O2zKExxJjMppeSnGLCogNmGmBYVvZM0yo/edit#slide=id.g88cc84ee8e_0_216) from [Archives Unleashed Cloud](http://cloud.archivesunleashed.org/). \n",
        "\n",
        "The fields needed in the derivative in this exact order:\n",
        "1. Crawl date\n",
        "1. Domain\n",
        "1. URL\n",
        "1. Remaining fields are optional\n",
        "\n",
        "Also, the text derivative file used by the notebook needs to either have an UTF-8 encoding or an encoding that includes a Byte Order Mark (BOM)."
      ]
    },
    {
      "cell_type": "code",
      "metadata": {
        "id": "cez3jkWsriQQ"
      },
      "source": [
        "# First code cell\n",
        "## You can change these variables to use the notebook with a different collection\n",
        "collectionID = 6337\n",
        "textDerivativeFileName = \"6337-fulltext.csv\" #\"File_Name\"\n",
        "urlForDownload = \"https://sandbox.zenodo.org/record/666588/files/6337-fulltext_Win_utf8NoBOM.zip?download=1\"\n",
        "fileCompressionType = \"zip\" #\"ZIP\" or \"GZIP\""
      ],
      "execution_count": null,
      "outputs": []
    },
    {
      "cell_type": "code",
      "metadata": {
        "id": "Ef4c3hN-uDeh",
        "outputId": "8506e53e-7241-4bb2-cf06-f664224cd402",
        "colab": {
          "base_uri": "https://localhost:8080/"
        }
      },
      "source": [
        "# Second code cell that must be ran before restarting the runtime\n",
        "# Installing packages that requires a restart\n",
        "!pip3 install --upgrade matplotlib"
      ],
      "execution_count": null,
      "outputs": [
        {
          "output_type": "stream",
          "text": [
            "Requirement already up-to-date: matplotlib in /usr/local/lib/python3.6/dist-packages (3.3.2)\n",
            "Requirement already satisfied, skipping upgrade: cycler>=0.10 in /usr/local/lib/python3.6/dist-packages (from matplotlib) (0.10.0)\n",
            "Requirement already satisfied, skipping upgrade: certifi>=2020.06.20 in /usr/local/lib/python3.6/dist-packages (from matplotlib) (2020.6.20)\n",
            "Requirement already satisfied, skipping upgrade: pillow>=6.2.0 in /usr/local/lib/python3.6/dist-packages (from matplotlib) (7.0.0)\n",
            "Requirement already satisfied, skipping upgrade: kiwisolver>=1.0.1 in /usr/local/lib/python3.6/dist-packages (from matplotlib) (1.3.1)\n",
            "Requirement already satisfied, skipping upgrade: pyparsing!=2.0.4,!=2.1.2,!=2.1.6,>=2.0.3 in /usr/local/lib/python3.6/dist-packages (from matplotlib) (2.4.7)\n",
            "Requirement already satisfied, skipping upgrade: python-dateutil>=2.1 in /usr/local/lib/python3.6/dist-packages (from matplotlib) (2.8.1)\n",
            "Requirement already satisfied, skipping upgrade: numpy>=1.15 in /usr/local/lib/python3.6/dist-packages (from matplotlib) (1.18.5)\n",
            "Requirement already satisfied, skipping upgrade: six in /usr/local/lib/python3.6/dist-packages (from cycler>=0.10->matplotlib) (1.15.0)\n"
          ],
          "name": "stdout"
        }
      ]
    },
    {
      "cell_type": "markdown",
      "metadata": {
        "id": "9Ifx6o_ebDwM"
      },
      "source": [
        "# Downloading And Including Dependencies"
      ]
    },
    {
      "cell_type": "code",
      "metadata": {
        "id": "nF_Ohb2XOelv",
        "outputId": "c5e900d0-cc14-453e-8418-d0a55b53008b",
        "colab": {
          "base_uri": "https://localhost:8080/"
        }
      },
      "source": [
        "#Install packages\n",
        "!pip3 install pandas\n",
        "!pip3 install numpy\n",
        "!pip install tqdm\n",
        "!pip install surt\n",
        "!pip install chardet\n",
        "\n",
        "# Archive-It Utilities (https://github.com/oduwsdl/archiveit_utilities)\n",
        "!pip3 install aiu"
      ],
      "execution_count": null,
      "outputs": [
        {
          "output_type": "stream",
          "text": [
            "Requirement already satisfied: pandas in /usr/local/lib/python3.6/dist-packages (1.1.4)\n",
            "Requirement already satisfied: pytz>=2017.2 in /usr/local/lib/python3.6/dist-packages (from pandas) (2018.9)\n",
            "Requirement already satisfied: numpy>=1.15.4 in /usr/local/lib/python3.6/dist-packages (from pandas) (1.18.5)\n",
            "Requirement already satisfied: python-dateutil>=2.7.3 in /usr/local/lib/python3.6/dist-packages (from pandas) (2.8.1)\n",
            "Requirement already satisfied: six>=1.5 in /usr/local/lib/python3.6/dist-packages (from python-dateutil>=2.7.3->pandas) (1.15.0)\n",
            "Requirement already satisfied: numpy in /usr/local/lib/python3.6/dist-packages (1.18.5)\n",
            "Requirement already satisfied: tqdm in /usr/local/lib/python3.6/dist-packages (4.41.1)\n",
            "Collecting surt\n",
            "  Downloading https://files.pythonhosted.org/packages/47/52/500de6c33a1b92fef6a21c924ec7b7fc04cf178c751f28ad66d6e85af22d/surt-0.3.1.tar.gz\n",
            "Requirement already satisfied: six in /usr/local/lib/python3.6/dist-packages (from surt) (1.15.0)\n",
            "Collecting tldextract>=2.0\n",
            "\u001b[?25l  Downloading https://files.pythonhosted.org/packages/ff/9e/578ea24d0149a5c179ded8ea53e2b8fc35d22f7bfdee9564844873b147ea/tldextract-3.0.2-py2.py3-none-any.whl (86kB)\n",
            "\u001b[K     |████████████████████████████████| 92kB 2.8MB/s \n",
            "\u001b[?25hCollecting requests-file>=1.4\n",
            "  Downloading https://files.pythonhosted.org/packages/77/86/cdb5e8eaed90796aa83a6d9f75cfbd37af553c47a291cd47bc410ef9bdb2/requests_file-1.5.1-py2.py3-none-any.whl\n",
            "Requirement already satisfied: idna in /usr/local/lib/python3.6/dist-packages (from tldextract>=2.0->surt) (2.10)\n",
            "Requirement already satisfied: requests>=2.1.0 in /usr/local/lib/python3.6/dist-packages (from tldextract>=2.0->surt) (2.23.0)\n",
            "Requirement already satisfied: filelock>=3.0.8 in /usr/local/lib/python3.6/dist-packages (from tldextract>=2.0->surt) (3.0.12)\n",
            "Requirement already satisfied: certifi>=2017.4.17 in /usr/local/lib/python3.6/dist-packages (from requests>=2.1.0->tldextract>=2.0->surt) (2020.6.20)\n",
            "Requirement already satisfied: chardet<4,>=3.0.2 in /usr/local/lib/python3.6/dist-packages (from requests>=2.1.0->tldextract>=2.0->surt) (3.0.4)\n",
            "Requirement already satisfied: urllib3!=1.25.0,!=1.25.1,<1.26,>=1.21.1 in /usr/local/lib/python3.6/dist-packages (from requests>=2.1.0->tldextract>=2.0->surt) (1.24.3)\n",
            "Building wheels for collected packages: surt\n",
            "  Building wheel for surt (setup.py) ... \u001b[?25l\u001b[?25hdone\n",
            "  Created wheel for surt: filename=surt-0.3.1-cp36-none-any.whl size=14560 sha256=cdbd974165f53dca61e9a3fe61314ed2cc16bb42cafc129423efc90a8226a572\n",
            "  Stored in directory: /root/.cache/pip/wheels/70/24/15/06ed122c935df0de79644c18f0404a0e6c4fcf6cbfa04f4d2e\n",
            "Successfully built surt\n",
            "Installing collected packages: requests-file, tldextract, surt\n",
            "Successfully installed requests-file-1.5.1 surt-0.3.1 tldextract-3.0.2\n",
            "Requirement already satisfied: chardet in /usr/local/lib/python3.6/dist-packages (3.0.4)\n",
            "Collecting aiu\n",
            "  Downloading https://files.pythonhosted.org/packages/fb/52/594941c4b648a193a6d849a33265e5dd6383ca99b42baf34356b9fcbede3/aiu-0.1.1a4.tar.gz\n",
            "Collecting requests_futures\n",
            "  Downloading https://files.pythonhosted.org/packages/47/c4/fd48d1ac5110a5457c71ac7cc4caa93da10a80b8de71112430e439bdee22/requests-futures-1.0.0.tar.gz\n",
            "Collecting warcio\n",
            "\u001b[?25l  Downloading https://files.pythonhosted.org/packages/24/eb/060b7e1c76abf24692784d5cf9c52ec05ff21249c88515d7f03c676434db/warcio-1.7.4-py2.py3-none-any.whl (40kB)\n",
            "\u001b[K     |████████████████████████████████| 40kB 2.0MB/s \n",
            "\u001b[?25hRequirement already satisfied: requests in /usr/local/lib/python3.6/dist-packages (from aiu) (2.23.0)\n",
            "Requirement already satisfied: bs4 in /usr/local/lib/python3.6/dist-packages (from aiu) (0.0.1)\n",
            "Requirement already satisfied: html5lib in /usr/local/lib/python3.6/dist-packages (from aiu) (1.0.1)\n",
            "Collecting requests_cache\n",
            "  Downloading https://files.pythonhosted.org/packages/7f/55/9b1c40eb83c16d8fc79c5f6c2ffade04208b080670fbfc35e0a5effb5a92/requests_cache-0.5.2-py2.py3-none-any.whl\n",
            "Requirement already satisfied: six in /usr/local/lib/python3.6/dist-packages (from warcio->aiu) (1.15.0)\n",
            "Requirement already satisfied: certifi>=2017.4.17 in /usr/local/lib/python3.6/dist-packages (from requests->aiu) (2020.6.20)\n",
            "Requirement already satisfied: urllib3!=1.25.0,!=1.25.1,<1.26,>=1.21.1 in /usr/local/lib/python3.6/dist-packages (from requests->aiu) (1.24.3)\n",
            "Requirement already satisfied: idna<3,>=2.5 in /usr/local/lib/python3.6/dist-packages (from requests->aiu) (2.10)\n",
            "Requirement already satisfied: chardet<4,>=3.0.2 in /usr/local/lib/python3.6/dist-packages (from requests->aiu) (3.0.4)\n",
            "Requirement already satisfied: beautifulsoup4 in /usr/local/lib/python3.6/dist-packages (from bs4->aiu) (4.6.3)\n",
            "Requirement already satisfied: webencodings in /usr/local/lib/python3.6/dist-packages (from html5lib->aiu) (0.5.1)\n",
            "Building wheels for collected packages: aiu, requests-futures\n",
            "  Building wheel for aiu (setup.py) ... \u001b[?25l\u001b[?25hdone\n",
            "  Created wheel for aiu: filename=aiu-0.1.1a4-cp36-none-any.whl size=25624 sha256=7360ae337f2e918cfd20b0143ab2f855fcb501967359dcec42bfc2f0bfc7ffdb\n",
            "  Stored in directory: /root/.cache/pip/wheels/e6/8d/63/6cc5110256de1f81966fcb4dedf27fe3a38f208c27dd333368\n",
            "  Building wheel for requests-futures (setup.py) ... \u001b[?25l\u001b[?25hdone\n",
            "  Created wheel for requests-futures: filename=requests_futures-1.0.0-cp36-none-any.whl size=7013 sha256=7e9aedb34b81a953c92352b06c4947cd5676c62c0edaa326fc6383818fd6eb42\n",
            "  Stored in directory: /root/.cache/pip/wheels/26/d0/f5/dc4e4a37bbe55c9acf967d2bd899152412c1e49c227f5395ff\n",
            "Successfully built aiu requests-futures\n",
            "Installing collected packages: requests-futures, warcio, requests-cache, aiu\n",
            "Successfully installed aiu-0.1.1a4 requests-cache-0.5.2 requests-futures-1.0.0 warcio-1.7.4\n"
          ],
          "name": "stdout"
        }
      ]
    },
    {
      "cell_type": "code",
      "metadata": {
        "id": "fh2G5F9rVmIj"
      },
      "source": [
        "#Import modules\n",
        "from aiu import ArchiveItCollection as aic\n",
        "from datetime import date\n",
        "import matplotlib.pyplot as plt\n",
        "import matplotlib.ticker as mtick\n",
        "import numpy as np\n",
        "import os\n",
        "import pandas as pd\n",
        "from surt import surt\n",
        "from chardet.universaldetector import UniversalDetector\n",
        "from tqdm.notebook import tqdm"
      ],
      "execution_count": null,
      "outputs": []
    },
    {
      "cell_type": "markdown",
      "metadata": {
        "id": "VndioFxTbUsQ"
      },
      "source": [
        "# Getting Collection Metadata"
      ]
    },
    {
      "cell_type": "code",
      "metadata": {
        "id": "FxzYQpZzXZ50"
      },
      "source": [
        "# Use Archive-It Utilities to get the metadata for the collection\n",
        "collectionMetadata = aic(collectionID)"
      ],
      "execution_count": null,
      "outputs": []
    },
    {
      "cell_type": "markdown",
      "metadata": {
        "id": "v8s5j32sp2Im"
      },
      "source": [
        "# Progress Bar Functions"
      ]
    },
    {
      "cell_type": "code",
      "metadata": {
        "id": "LCWx2vzcgkB3"
      },
      "source": [
        "# Functions for creating progress bars\n",
        "def getProgressBarForRange(maxNum, description):\n",
        "  progressBar = tqdm(range(maxNum), desc=description)\n",
        "  return progressBar\n",
        "\n",
        "def getProgressBarForFile(filePath, description):\n",
        "  !grep -ac \".\" \"$filePath\" > \"temp.txt\"\n",
        "  with open(\"temp.txt\", 'r') as tempFile:\n",
        "    lineCount = tempFile.read()\n",
        "\n",
        "  !rm \"temp.txt\"\n",
        "  \n",
        "  progressBar = tqdm(desc=description)\n",
        "  progressBar.reset(total=int(lineCount))\n",
        "\n",
        "  return progressBar"
      ],
      "execution_count": null,
      "outputs": []
    },
    {
      "cell_type": "markdown",
      "metadata": {
        "id": "dJN4MfbXbtf-"
      },
      "source": [
        "# Retrieving The Text Derivative"
      ]
    },
    {
      "cell_type": "code",
      "metadata": {
        "id": "tX47I7gZNPUY",
        "outputId": "7aa82d99-776a-4cc7-e2c4-fe12ca381989",
        "colab": {
          "base_uri": "https://localhost:8080/"
        }
      },
      "source": [
        "# Downloading the derivative file.\n",
        "\n",
        "# Create folder for the text derivative\n",
        "derivativeFolderPath = \"./\" + collectionMetadata.get_collection_name() + \"/\"\n",
        "!mkdir \"$derivativeFolderPath\"\n",
        "\n",
        "# Download and extract the file(s)\n",
        "if fileCompressionType.lower() == \"zip\" or fileCompressionType.lower() == \".zip\":\n",
        "  downloadedFileName = collectionMetadata.get_collection_name() + \".zip\"\n",
        "  !curl -L \"$urlForDownload\" > \"$downloadedFileName\"\n",
        "  !unzip \"$downloadedFileName\" -d \"$derivativeFolderPath\"\n",
        "  !rm \"$downloadedFileName\"\n",
        "elif fileCompressionType.lower() == \"gzip\" or fileCompressionType.lower() == \".gzip\":\n",
        "  downloadedFileName = derivativeFolderPath + collectionMetadata.get_collection_name() + \".gz\"\n",
        "  !curl -L \"$urlForDownload\" > \"$downloadedFileName\"\n",
        "  !gunzip -r \"$downloadedFileName\"\n",
        "  \n",
        "  # Check to see if the downloaded file is a directory or a text derivative file\n",
        "  !ls -l \"$derivativeFolderPath\" | grep -c \"^d\" > \"temp.txt\"\n",
        "  with open(\"temp.txt\", 'r') as f:\n",
        "    directoryCount = int(f.read())\n",
        "  !rm \"temp.txt\"\n",
        "  \n",
        "  ## If the file is a directory, then change the name to textDerivativeFileName\n",
        "  if directoryCount == 0:\n",
        "    downloadedFileName = derivativeFolderPath + collectionMetadata.get_collection_name()\n",
        "    newFileName = derivativeFolderPath + textDerivativeFileName\n",
        "    !mv \"$downloadedFileName\" \"$newFileName\"\n",
        "\n",
        "else:\n",
        "  print(\"Error: The compression type cannot be used by this notebook. Use ZIP or GZIP files.\")\n",
        "\n",
        "\n",
        "# Find the text derivative\n",
        "webpageTextPath = \"\"\n",
        "for dirPath, dirNames, fileNames in os.walk(derivativeFolderPath):\n",
        "  if textDerivativeFileName in fileNames:\n",
        "    webpageTextPath = os.path.join(dirPath, textDerivativeFileName)\n",
        "    break # Exit when file is found\n",
        "\n",
        "if webpageTextPath == \"\":\n",
        "  print(\"Error: The file entered in code cell 2 was not found.\")\n",
        "\n",
        "# Remove the gzip files\n",
        "!cat \"$webpageTextPath\" | grep -av \",application/gzip,?\" > \"temp.txt\"\n",
        "!cat \"temp.txt\" > \"$webpageTextPath\"\n",
        "!rm \"temp.txt\"\n",
        "\n",
        "# Convert the file to UTF-8 if necessary\n",
        "## Read the Byte Order Mark (BOM) if it is included\n",
        "encodingDetector = UniversalDetector()\n",
        "with open(webpageTextPath, 'rb') as f:\n",
        "  line = f.readline()\n",
        "  encodingDetector.feed(line)\n",
        "encodingDetector.close()\n",
        "\n",
        "if encodingDetector.result['confidence'] == 1.0:\n",
        "  # BOM is included and the encoding should be known\n",
        "  encodingType = encodingDetector.result['encoding']\n",
        "\n",
        "  # Convert the file to UTF-8 with no BOM\n",
        "  !iconv -f \"$encodingType\" -t utf-8 \"$webpageTextPath\" > \"temp.csv\"\n",
        "  !rm \"$webpageTextPath\"\n",
        "  !mv \"temp.csv\" \"$webpageTextPath\"\n",
        "else:\n",
        "  # If no BOM is found, then it is assumed that the file's encoding is UTF-8\n",
        "  print(\"Warning: If the file's encoding is not UTF-8, then an error may occur.\")"
      ],
      "execution_count": null,
      "outputs": [
        {
          "output_type": "stream",
          "text": [
            "  % Total    % Received % Xferd  Average Speed   Time    Time     Time  Current\n",
            "                                 Dload  Upload   Total   Spent    Left  Speed\n",
            "100  754k  100  754k    0     0   529k      0  0:00:01  0:00:01 --:--:--  529k\n",
            "Archive:  Tamiment-Wagner: Civil Rights and Civil Liberties.zip\n",
            "  inflating: ./Tamiment-Wagner: Civil Rights and Civil Liberties/6337-fulltext.csv  \n",
            "Warning: If the file's encoding is not UTF-8, then an error may occur.\n"
          ],
          "name": "stdout"
        }
      ]
    },
    {
      "cell_type": "markdown",
      "metadata": {
        "id": "dI9Jydy7cMiz"
      },
      "source": [
        "# Creating Reduced Text Derivative Files\n",
        "The webpage text derivative will be reduced to only include the lines associated with seed mementos. \n",
        "\n",
        "Each line will also be reduced to two fields which will be the *crawl date* and the *URL (URI-R)*."
      ]
    },
    {
      "cell_type": "code",
      "metadata": {
        "id": "qbr8jSa5TQRj"
      },
      "source": [
        "# Functions needed to create the necessary files.\n",
        "def removeTrailingSlash(urlStr):\n",
        "  urlStr = urlStr.strip()\n",
        "  if urlStr[-1] == '/':\n",
        "    urlStr = urlStr[:-1]\n",
        "  \n",
        "  return urlStr\n",
        "\n",
        "## Printing the seed memento file\n",
        "def printSeedMementosFile(webpageTextPath, seedMementoFilePath):\n",
        "  # Create a list of surts for the seeds, so that the URLs can be compared later\n",
        "  seedSurtList = []\n",
        "  for seedUrl in collectionMetadata.list_seed_uris():\n",
        "    seedUrl = removeTrailingSlash(seedUrl)\n",
        "    currentSurt = surt(seedUrl)\n",
        "    seedSurtList.append(currentSurt)\n",
        "\n",
        "  # Create progress bar\n",
        "  progressBar = getProgressBarForFile(webpageTextPath, \"Printing Seed Memento File\")\n",
        "\n",
        "  # Compare each URI-R from the webpage text derivative with the seed URI-R\n",
        "  ## If the URI-Rs are the same then print the needed fields to the seed memento file\n",
        "  allMementosFile = open(webpageTextPath, 'r')\n",
        "  seedMementoFile = open(seedMementoFilePath, 'wt')\n",
        "  for line in allMementosFile:\n",
        "    progressBar.update()\n",
        "    for seedSurt in seedSurtList:\n",
        "      # Get the needed fields from the line which are the crawldate and URI-R\n",
        "      fieldsList = line.split(',', 3)[:3]\n",
        "      fieldsList.pop(1)\n",
        "\n",
        "      currentUrlStr = fieldsList[1]\n",
        "      currentUrlStr = removeTrailingSlash(currentUrlStr)\n",
        "      # Compare the URI-Rs of the seed and the current line\n",
        "      if seedSurt == surt(currentUrlStr):\n",
        "        reducedLine = ','.join(fieldsList)\n",
        "        print(reducedLine, file=seedMementoFile)\n",
        "        break # Move to the next line\n",
        "    \n",
        "    \n",
        "\n",
        "  seedMementoFile.close()\n",
        "  allMementosFile.close()\n",
        "\n",
        "  # Remove the domain field from seed_mementos.csv\n",
        "  !sort -k1,1 -o \"$seedMementoFilePath\" \"$seedMementoFilePath\"\n",
        "  refreshed = progressBar.refresh() # Need to refresh, since some collections get processed too quickly\n",
        "\n",
        "\n",
        "## Prints the first line from a file (with only seed mementos) to \n",
        "## the first crawl date file.\n",
        "def printFirstCrawlDateFile(seedMementoFilePath, firstCrawlDateFilePath):\n",
        "  !head -n 1 \"$seedMementoFilePath\" > \"$firstCrawlDateFilePath\"\n",
        "\n",
        "## Prints the last line from a file (with only seed mementos) to \n",
        "## the last crawl date file.\n",
        "def printLastCrawlDateFile(seedMementoFilePath, lastCrawlDateFilePath):\n",
        "  !tail -n 1 \"$seedMementoFilePath\" > \"$lastCrawlDateFilePath\""
      ],
      "execution_count": null,
      "outputs": []
    },
    {
      "cell_type": "code",
      "metadata": {
        "id": "ANudOaq4y5Qy",
        "outputId": "d4bd853f-770a-428a-dbe6-9c743de2a20f",
        "colab": {
          "base_uri": "https://localhost:8080/",
          "height": 49,
          "referenced_widgets": [
            "bcffed946ee34bdd825d3f20fb81d5f1",
            "ef28f163dc4c43c49510be20175b4ad7",
            "bba756221c7948aa9e1b42245ee9c165",
            "cbe5669592944929a915321b2bc68929",
            "0e1002e556ab4b8089cd97908c528e76",
            "c1a6cf1831764fb799168dc90ab09ba3",
            "32bb15ba69b942fcb71aff97d73e99cb",
            "f7928b71ff454dedaef03679e8c381f0"
          ]
        }
      },
      "source": [
        "# Print the necessary files\n",
        "\n",
        "## Print a seed memento file that includes the crawl date and URI-Rs associated \n",
        "## with each seed memento.\n",
        "seedMementoFilePath = \"seed_mementos.csv\"\n",
        "printSeedMementosFile(webpageTextPath, seedMementoFilePath)\n",
        "\n",
        "## Print the first and last crawl date to a file\n",
        "firstCrawlDateFilePath = \"first_crawl_date.csv\"\n",
        "lastCrawlDateFilePath = \"last_crawl_date.csv\"\n",
        "printFirstCrawlDateFile(seedMementoFilePath, firstCrawlDateFilePath)\n",
        "printLastCrawlDateFile(seedMementoFilePath, lastCrawlDateFilePath)"
      ],
      "execution_count": null,
      "outputs": [
        {
          "output_type": "display_data",
          "data": {
            "application/vnd.jupyter.widget-view+json": {
              "model_id": "bcffed946ee34bdd825d3f20fb81d5f1",
              "version_minor": 0,
              "version_major": 2
            },
            "text/plain": [
              "HBox(children=(FloatProgress(value=1.0, bar_style='info', description='Printing Seed Memento File', max=1.0, s…"
            ]
          },
          "metadata": {
            "tags": []
          }
        }
      ]
    },
    {
      "cell_type": "markdown",
      "metadata": {
        "id": "0QOIH5qcgxfv"
      },
      "source": [
        "# Creating A Growth Curve Visualization And Printing Other Information"
      ]
    },
    {
      "cell_type": "code",
      "metadata": {
        "id": "4pwIfoUik5RQ"
      },
      "source": [
        "# Functions for creating the growth curve graph and printing missing seeds\n",
        "def getCrawlDate(crawlDateStr):\n",
        "  year = int(crawlDateStr[:4])\n",
        "  month = int(crawlDateStr[4:6])\n",
        "  day = int(crawlDateStr[6:8])\n",
        "  crawlDate = date(year, month, day)\n",
        "  return crawlDate\n",
        "\n",
        "def getFirstCrawlDateFromFile(inputFilePath):\n",
        "  with open(inputFilePath, 'r') as inputFile:\n",
        "    crawlDateStr = inputFile.readline().split(',')[0]\n",
        "  \n",
        "  crawlDate = getCrawlDate(crawlDateStr)\n",
        "  return crawlDate\n",
        "\n",
        "def computeX(crawlDate, firstCrawlDate, maxTimeDelta):\n",
        "  currentTimeDelta = crawlDate - firstCrawlDate\n",
        "  x = (float(currentTimeDelta.days) / float(maxTimeDelta.days)) * 100\n",
        "  return x\n",
        "\n",
        "def computeCoordinatesSeedLine(collectionMetadata, seedMementoFilePath, xList, yList, \n",
        "                               excludedSeedsList, firstCrawlDate, maxTimeDelta):\n",
        "  #Clear the lists\n",
        "  xList.clear()\n",
        "  yList.clear()\n",
        "  excludedSeedsList.clear()\n",
        "\n",
        "  prevCrawlDate = date(1,1,1)\n",
        "  prevIndex = -1\n",
        "\n",
        "\n",
        "  # Create progress bar\n",
        "  progressBar = getProgressBarForRange(len(collectionMetadata.list_seed_uris()), \"Seed line\")\n",
        "\n",
        "  # For each seed go through the file until a match is found.\n",
        "  # When a match is found, compute the x value and then update the y value.\n",
        "  ## Need to have x and y lists aligned\n",
        "  for seedUrl in collectionMetadata.list_seed_uris():\n",
        "    seedUrl = removeTrailingSlash(seedUrl)\n",
        "    seedSurt = surt(seedUrl)\n",
        "    notFound = True\n",
        "\n",
        "    seedMementoFile = open(seedMementoFilePath, 'r')\n",
        "    for line in seedMementoFile:\n",
        "      currentURL = line.split(',')[1]\n",
        "      currentURL = removeTrailingSlash(currentURL)\n",
        "      currentUrlSurt = surt(currentURL)\n",
        "      if currentUrlSurt == seedSurt:\n",
        "        notFound = False\n",
        "        crawlDate = getCrawlDate(line.split(',')[0])\n",
        "\n",
        "        # Determine the current index\n",
        "        if crawlDate == prevCrawlDate:\n",
        "          # When the crawl dates are the same, the index used for x and y lists is the same\n",
        "          currentIndex = prevIndex\n",
        "        else:\n",
        "          # when the crawl dates are different, find the index for the current x value\n",
        "          x = computeX(crawlDate, firstCrawlDate, maxTimeDelta)\n",
        "          \n",
        "          try:\n",
        "            currentIndex = xList.index(x)\n",
        "          except ValueError:\n",
        "            # when x cannot be found, then add a new x and y to the lists\n",
        "            xList.append(x)\n",
        "            yList.append(0)\n",
        "            currentIndex = len(xList) - 1\n",
        "\n",
        "        # A y value is incremented during the first occurance of each seed\n",
        "        yList[currentIndex] += 1\n",
        "\n",
        "        prevIndex = currentIndex\n",
        "        prevCrawlDate = crawlDate\n",
        "        break # Move to the next seed URL\n",
        "\n",
        "    seedMementoFile.close()\n",
        "    progressBar.update()\n",
        "    if notFound:\n",
        "      excludedSeedsList.append(seedUrl)\n",
        "    \n",
        "  # Sort the xList while ensuring the yList is still aligned\n",
        "  xTuple, yTuple = zip(*sorted(zip(xList, yList)))\n",
        "  for i in range(0, len(xList)):\n",
        "    xList[i] = xTuple[i]\n",
        "    yList[i] = yTuple[i]\n",
        "\n",
        "  # Finish computing the y values\n",
        "  ## y_current = (y_current + y_prev) / numSeedURLs * 100\n",
        "  for i in range(1, len(yList)):\n",
        "    yList[i] = yList[i] + yList[i-1]\n",
        "  # The last element contains the total number of seed URI-Rs that were found\n",
        "  numSeedURLs = yList[-1]\n",
        "  for i in range(0, len(yList)):\n",
        "    yList[i] = (float(yList[i]) / float(numSeedURLs)) * 100\n",
        "\n",
        "  # Add another x and y value if the last x value is not 100%\n",
        "  if int(xList[-1]) != 100:\n",
        "    xList.append(100)\n",
        "    yList.append(100)\n",
        "\n",
        "  refreshed = progressBar.refresh()\n",
        "\n",
        "\n",
        "def computeCoordinatesSeedMementoLine(seedMementoFilePath, xList, yList, \n",
        "                                      firstCrawlDate, maxTimeDelta):\n",
        "  # Clear the lists\n",
        "  xList.clear()\n",
        "  yList.clear()\n",
        "\n",
        "  prevCrawlDate = date(1,1,1)\n",
        "  prevIndex = -1\n",
        "\n",
        "  # Create a progress bar\n",
        "  progressBar = getProgressBarForFile(seedMementoFilePath, \"Seed memento line\")\n",
        "\n",
        "  # Go through each line in the input file and then update the y values associated\n",
        "  # with the crawl date.\n",
        "  seedMementoFile = open(seedMementoFilePath, 'r')\n",
        "  for line in seedMementoFile:\n",
        "    crawlDate = getCrawlDate(line.split(',')[0])\n",
        "\n",
        "    # Determine the current index\n",
        "    if crawlDate == prevCrawlDate:\n",
        "      # When the crawl dates are the same, the index used for x and y lists is the same\n",
        "      currentIndex = prevIndex\n",
        "    else:\n",
        "      # When the crawl dates are different, find the index for the current x value\n",
        "      x = computeX(crawlDate, firstCrawlDate, maxTimeDelta)\n",
        "      \n",
        "      try:\n",
        "        currentIndex = xList.index(x)\n",
        "      except ValueError:\n",
        "        # When x cannot be found, then add a new x and y to the lists\n",
        "        xList.append(x)\n",
        "        yList.append(0)\n",
        "        currentIndex = len(xList) - 1\n",
        "\n",
        "      # A y value is incremented for each line in the seed memento file\n",
        "      ## The y value associated with the current x value will be updated\n",
        "      yList[currentIndex] += 1\n",
        "\n",
        "      prevIndex = currentIndex\n",
        "      prevCrawlDate = crawlDate\n",
        "    \n",
        "    progressBar.update()\n",
        "\n",
        "  seedMementoFile.close()\n",
        "    \n",
        "  # Sort the xList while ensuring the yList is still aligned\n",
        "  xTuple, yTuple = zip(*sorted(zip(xList, yList)))\n",
        "  for i in range(0, len(xList)):\n",
        "    xList[i] = xTuple[i]\n",
        "    yList[i] = yTuple[i]\n",
        "\n",
        "  # Finish computing the y values\n",
        "  ## y_current = (y_current + y_prev) / numSeedURIs * 100\n",
        "  for i in range(1, len(yList)):\n",
        "    yList[i] = yList[i] + yList[i-1]\n",
        "  # The last element contains the total number of seed URI-Ms that were found\n",
        "  numSeedURIs = yList[-1]\n",
        "  for i in range(0, len(yList)):\n",
        "    yList[i] = (float(yList[i]) / float(numSeedURIs)) * 100\n",
        "\n",
        "  refreshed = progressBar.refresh()\n",
        "\n",
        "\n",
        "# The function for printing the growth curve for a collection\n",
        "def printGrowthCurve(collectionID, collectionMetadata,\n",
        "                     xListSeedMementoLine, yListSeedMementoLine, \n",
        "                     xListSeedLine, yListSeedLine):\n",
        "  figureSize = [7, 6]\n",
        "  p1 = plt.rcParams['figure.figsize'] = figureSize\n",
        "  plt.plot(xListSeedMementoLine, yListSeedMementoLine, \"r-\")\n",
        "  plt.plot(xListSeedLine, yListSeedLine, \"g-\")\n",
        "\n",
        "  plt.yticks(np.arange(0, 110, 10)) \n",
        "  plt.xticks(np.arange(0, 110, 10))\n",
        "\n",
        "  titleStr = \"Collection \" + str(collectionID) + \":\\n\" + collectionMetadata.get_collection_name() + \"\\n\" + \"Collected by \" + collectionMetadata.get_collectedby()\n",
        "  plt.title(titleStr)\n",
        "  plt.ylabel(\"URI Percentage (%)\")\n",
        "  plt.xlabel(\"Time Percentage of Life of Collection (%)\")\n",
        "  plt.legend(['% Seed Mementos', '% Seeds']) \n",
        "\n",
        "  plt.show()\n",
        "\n",
        "#Print missing seeds\n",
        "def printMissingSeeds(collectionMetadata, excludedSeedsList):\n",
        "  print(\"\\nTotal seeds = \" + str(len(collectionMetadata.list_seed_uris())))\n",
        "  print(\"Seeds missing from text derivative = \" + str(len(excludedSeedsList)))\n",
        "  \n",
        "  if len(excludedSeedsList) != 0:\n",
        "    print(\"\\n\" + \"Missing seeds:\")\n",
        "    for seedURL in excludedSeedsList:\n",
        "      print(seedURL)"
      ],
      "execution_count": null,
      "outputs": []
    },
    {
      "cell_type": "markdown",
      "metadata": {
        "id": "R-8981ZMkBQS"
      },
      "source": [
        "## Computing Coordinates"
      ]
    },
    {
      "cell_type": "code",
      "metadata": {
        "id": "qD6Q2GZGlanE",
        "outputId": "e0974204-63c5-48b3-ff58-cd1fd0b21aae",
        "colab": {
          "base_uri": "https://localhost:8080/",
          "height": 81,
          "referenced_widgets": [
            "aba2e15f2fbc4e29aa0dadc081011e41",
            "7e573d43f33c46b7ae5802756ed6a01d",
            "d1040fcb2b0444a8a14362bafcf67056",
            "4ee646bec19a4c70ab10fd3923c5c04d",
            "bd9b466856c84b048779cc10da6c3eb5",
            "24b6336c9dcc49eaa519dc86aa312ee7",
            "38283d6523f14fe7901fe122a4958c8d",
            "37ca5660d08444dfa4c531d04dfb2c74",
            "0649ade382d24ba8b93f3265cc018ab4",
            "f37551530c524d38a1afbd053f9c8d05",
            "89b120c4aef7495a88b920d33ba6480b",
            "5ed6d01a6ea2402aa0f62cd60aa552bd",
            "b4fc02f0bb564be6a7257a45bd2fd3eb",
            "27a9ffc81fa946c3b2ee4ce6d056ade4",
            "ef057d211d6d4a5180f874bbda67f24e",
            "1ed83a3a53c340fca6a6b378739f28dc"
          ]
        }
      },
      "source": [
        "# Compute the coordinates for the points in the seed line and seed memento line\n",
        "\n",
        "## Compute the maximum time between the first and last crawl date\n",
        "firstCrawlDate = getFirstCrawlDateFromFile(firstCrawlDateFilePath)\n",
        "lastCrawlDate = getFirstCrawlDateFromFile(lastCrawlDateFilePath)\n",
        "maxTimeDelta = lastCrawlDate - firstCrawlDate\n",
        "excludedSeedsList = []\n",
        "\n",
        "## Compute coordinates for the points in the seed line\n",
        "xListSeedLine = []\n",
        "yListSeedLine = []\n",
        "computeCoordinatesSeedLine(collectionMetadata, seedMementoFilePath, \n",
        "                           xListSeedLine, yListSeedLine, excludedSeedsList,\n",
        "                           firstCrawlDate, maxTimeDelta)\n",
        "\n",
        "## Compute coordinates for the points in the seed memento line\n",
        "xListSeedMementoLine = []\n",
        "yListSeedMementoLine = []\n",
        "computeCoordinatesSeedMementoLine(seedMementoFilePath, xListSeedMementoLine, \n",
        "                                  yListSeedMementoLine, firstCrawlDate, \n",
        "                                  maxTimeDelta)\n",
        "\n"
      ],
      "execution_count": null,
      "outputs": [
        {
          "output_type": "display_data",
          "data": {
            "application/vnd.jupyter.widget-view+json": {
              "model_id": "aba2e15f2fbc4e29aa0dadc081011e41",
              "version_minor": 0,
              "version_major": 2
            },
            "text/plain": [
              "HBox(children=(FloatProgress(value=0.0, description='Seed line', max=35.0, style=ProgressStyle(description_wid…"
            ]
          },
          "metadata": {
            "tags": []
          }
        },
        {
          "output_type": "display_data",
          "data": {
            "application/vnd.jupyter.widget-view+json": {
              "model_id": "0649ade382d24ba8b93f3265cc018ab4",
              "version_minor": 0,
              "version_major": 2
            },
            "text/plain": [
              "HBox(children=(FloatProgress(value=1.0, bar_style='info', description='Seed memento line', max=1.0, style=Prog…"
            ]
          },
          "metadata": {
            "tags": []
          }
        }
      ]
    },
    {
      "cell_type": "markdown",
      "metadata": {
        "id": "aXwXUUhEkK1E"
      },
      "source": [
        "## Displaying Collection Growth Curve And Printing The Missing Seeds"
      ]
    },
    {
      "cell_type": "code",
      "metadata": {
        "id": "3Pe3nMQMgfXR",
        "outputId": "dc121011-7e20-4bcd-f369-0bf8a3324d01",
        "colab": {
          "base_uri": "https://localhost:8080/",
          "height": 570
        }
      },
      "source": [
        "#Print the growth curve and missing seeds\n",
        "## Print growth curve\n",
        "printGrowthCurve(collectionID, collectionMetadata,\n",
        "                 xListSeedMementoLine, yListSeedMementoLine, \n",
        "                 xListSeedLine, yListSeedLine)\n",
        "\n",
        "## Print missing seeds\n",
        "printMissingSeeds(collectionMetadata, excludedSeedsList)"
      ],
      "execution_count": null,
      "outputs": [
        {
          "output_type": "stream",
          "text": [
            "\n",
            "\n"
          ],
          "name": "stdout"
        },
        {
          "output_type": "display_data",
          "data": {
            "image/png": "[encoded data removed]",
            "text/plain": [
              "<Figure size 504x432 with 1 Axes>"
            ]
          },
          "metadata": {
            "tags": [],
            "needs_background": "light"
          }
        },
        {
          "output_type": "stream",
          "text": [
            "\n",
            "Total seeds = 35\n",
            "Seeds missing from text derivative = 1\n",
            "\n",
            "Missing seeds:\n",
            "http://millionhoodies.nationbuilder.com\n"
          ],
          "name": "stdout"
        }
      ]
    },
    {
      "cell_type": "markdown",
      "metadata": {
        "id": "HehQIFMTkiLD"
      },
      "source": [
        "## Printing Other Information About Collection"
      ]
    },
    {
      "cell_type": "code",
      "metadata": {
        "id": "L9nZUaTmUqSS",
        "outputId": "00d4b4d3-a3dc-4ab5-d8ca-594fb16697a6",
        "colab": {
          "base_uri": "https://localhost:8080/"
        }
      },
      "source": [
        "# Print other information that could be useful\n",
        "print(\"More Information About The Collection:\")\n",
        "print(\"  First crawl date: \" + str(firstCrawlDate))\n",
        "print(\"  Last crawl date: \" + str(lastCrawlDate))\n",
        "print(\"  Life of the collection: \" + str(maxTimeDelta))"
      ],
      "execution_count": null,
      "outputs": [
        {
          "output_type": "stream",
          "text": [
            "More Information About The Collection:\n",
            "  First crawl date: 2010-12-01\n",
            "  Last crawl date: 2017-10-21\n",
            "  Life of the collection: 2516 days, 0:00:00\n"
          ],
          "name": "stdout"
        }
      ]
    }
  ]
}